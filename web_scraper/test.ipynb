{
 "cells": [
  {
   "cell_type": "code",
   "id": "initial_id",
   "metadata": {
    "collapsed": true,
    "ExecuteTime": {
     "end_time": "2025-03-12T13:52:14.848789Z",
     "start_time": "2025-03-12T13:52:07.455803Z"
    }
   },
   "source": [
    "from selenium import webdriver\n",
    "from selenium.webdriver.chrome.service import Service\n",
    "from selenium.webdriver.common.by import By\n",
    "from webdriver_manager.chrome import ChromeDriverManager\n",
    "import csv\n",
    "\n",
    "options = webdriver.ChromeOptions()\n",
    "options.add_argument(\"--headless\")\n",
    "\n",
    "driver = webdriver.Chrome(service=Service(ChromeDriverManager().install()), options=options)\n",
    "\n",
    "url = \"https://www.olx.pl/d/oferta/nissan-pathfinder-2-5-dci-190km-CID5-ID14P57f.html\"\n",
    "driver.get(url)\n",
    "\n",
    "try:\n",
    "    nawigacja = driver.find_elements(By.CSS_SELECTOR, \"ol.css-xv75xi li\")\n",
    "    if len(nawigacja) >= 4:\n",
    "        producent = nawigacja[3].text.strip()\n",
    "    else:\n",
    "        producent = \"Nieznany\"\n",
    "\n",
    "    ID = driver.find_element(By.CLASS_NAME, \"css-1i121pa\")\n",
    "\n",
    "    atrybuty = driver.find_element(By.CLASS_NAME, \"css-41yf00\")\n",
    "\n",
    "    atrybuty_k = atrybuty.text.splitlines().copy()\n",
    "    slownik = dict(item.split(\":\") for item in atrybuty_k[1:])\n",
    "\n",
    "    opis = driver.find_element(By.CLASS_NAME, \"css-1o924a9\")\n",
    "\n",
    "    slownik = dict(item.split(\":\") for item in atrybuty_k[1:])\n",
    "    slownik[\"ID\"] = ID.text.replace(\"ID:\", \"\").strip()\n",
    "    slownik[\"Producent\"] = producent\n",
    "    slownik[\"Opis\"] = \"\"  #na razie bez opisu\n",
    "    print(slownik)\n",
    "\n",
    "    plik_csv = \"dane.csv\"\n",
    "\n",
    "    with open(plik_csv, mode=\"a\", newline=\"\", encoding=\"utf-8\") as plik:\n",
    "        writer = csv.DictWriter(plik, fieldnames=slownik.keys())\n",
    "\n",
    "        if plik.tell() == 0:\n",
    "            writer.writeheader()\n",
    "\n",
    "        writer.writerow(slownik)\n",
    "\n",
    "except Exception as e:\n",
    "    print(\"Nie znaleziono elementu:\", e)\n",
    "\n",
    "driver.quit()\n"
   ],
   "outputs": [
    {
     "name": "stdout",
     "output_type": "stream",
     "text": [
      "{'Model': ' Pathfinder', 'Rok produkcji': ' 2012', 'Paliwo': ' Diesel', 'Typ nadwozia': ' Pickup', 'Przebieg': ' 227 000 km', 'Kolor': ' Czarny', 'Poj. silnika': ' 2 500 cm³', 'Stan techniczny': ' Nieuszkodzony', 'Skrzynia biegów': ' Manualna', 'Kraj pochodzenia': ' Niemcy', 'Moc silnika': ' 190 KM', 'Napęd': ' 4x4 (dołączany ręcznie)', 'Kierownica': ' po lewej', 'ID': '987412573', 'Producent': 'Nissan', 'Opis': ''}\n"
     ]
    }
   ],
   "execution_count": 11
  },
  {
   "metadata": {
    "ExecuteTime": {
     "end_time": "2025-03-12T13:47:53.444825Z",
     "start_time": "2025-03-12T13:47:53.441290Z"
    }
   },
   "cell_type": "code",
   "source": "",
   "id": "2975024c34d87283",
   "outputs": [],
   "execution_count": null
  },
  {
   "metadata": {},
   "cell_type": "code",
   "outputs": [],
   "execution_count": null,
   "source": "",
   "id": "577a839290d75a99"
  }
 ],
 "metadata": {
  "kernelspec": {
   "display_name": "Python 3",
   "language": "python",
   "name": "python3"
  },
  "language_info": {
   "codemirror_mode": {
    "name": "ipython",
    "version": 2
   },
   "file_extension": ".py",
   "mimetype": "text/x-python",
   "name": "python",
   "nbconvert_exporter": "python",
   "pygments_lexer": "ipython2",
   "version": "2.7.6"
  }
 },
 "nbformat": 4,
 "nbformat_minor": 5
}
